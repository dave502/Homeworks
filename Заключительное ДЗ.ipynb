{
  "nbformat": 4,
  "nbformat_minor": 0,
  "metadata": {
    "colab": {
      "name": "Untitled4.ipynb",
      "provenance": [],
      "collapsed_sections": [],
      "authorship_tag": "ABX9TyP/OQVS9pAUNjG1bzQlFraI",
      "include_colab_link": true
    },
    "kernelspec": {
      "name": "python3",
      "display_name": "Python 3"
    },
    "language_info": {
      "name": "python"
    }
  },
  "cells": [
    {
      "cell_type": "markdown",
      "metadata": {
        "id": "view-in-github",
        "colab_type": "text"
      },
      "source": [
        "<a href=\"https://colab.research.google.com/github/dave502/Homeworks/blob/master/%D0%97%D0%B0%D0%BA%D0%BB%D1%8E%D1%87%D0%B8%D1%82%D0%B5%D0%BB%D1%8C%D0%BD%D0%BE%D0%B5%20%D0%94%D0%97.ipynb\" target=\"_parent\"><img src=\"https://colab.research.google.com/assets/colab-badge.svg\" alt=\"Open In Colab\"/></a>"
      ]
    },
    {
      "cell_type": "code",
      "metadata": {
        "id": "bw-sIhgXqby6"
      },
      "source": [
        "from sympy import *\n",
        "from sympy.plotting import plot\n",
        "from math import pi "
      ],
      "execution_count": 58,
      "outputs": []
    },
    {
      "cell_type": "markdown",
      "metadata": {
        "id": "hosxzlj5EoRF"
      },
      "source": [
        "#**1 Исследовать ряд на сходимость, используя признак д’Аламбера:**\n",
        "### $$\\sum\\limits_{n=1}^{+\\infty}\\frac{n^n}{(n!)^2}$$"
      ]
    },
    {
      "cell_type": "markdown",
      "metadata": {
        "id": "dpkUiYqCFb0J"
      },
      "source": [
        "Необходимым условием сходимости любого ряда является стремлению к нулю главного члена ряда.\n",
        "### $$\\lim_{n\\to +\\infty}a_{n}=0$$\n",
        "Проверим необходимое условие, используя формулу Стирлинга:\n",
        "### $$\\lim_{n\\to +\\infty}\\frac{n^n}{(n!)^2}=\\lim_{n\\to +\\infty}\\frac{{n^n}{e^{2n}}}{2{\\pi}nn^{2n}}=\\lim_{n\\to +\\infty}{(\\frac{{ne^2}}{n^2})}^n \\frac{1}{2{\\pi n}}=\\lim_{n\\to +\\infty}{(\\frac{{e^2}}{n})}^n * \\lim_{n\\to +\\infty}\\frac{1}{2{\\pi n}}=0*0 = 0$$"
      ]
    },
    {
      "cell_type": "code",
      "metadata": {
        "id": "KipUqpIOvwMW",
        "colab": {
          "base_uri": "https://localhost:8080/",
          "height": 37
        },
        "outputId": "60ce32d7-4506-4c97-9945-37c2713a1fc1"
      },
      "source": [
        "# проверка вычисления предела\n",
        "n = Symbol('n')\n",
        "expr = n**n/(factorial(n))**2\n",
        "limit_expr = limit(expr, n, oo) \n",
        "limit_expr "
      ],
      "execution_count": null,
      "outputs": [
        {
          "output_type": "execute_result",
          "data": {
            "text/latex": "$\\displaystyle 0$",
            "text/plain": [
              "0"
            ]
          },
          "metadata": {},
          "execution_count": 13
        }
      ]
    },
    {
      "cell_type": "markdown",
      "metadata": {
        "id": "OpsfPT8EN0Zr"
      },
      "source": [
        "Для проверки на сходимость по признаку д'Аламбера найдём следущий предел:\n",
        "### $$\\lim_{n\\to +\\infty}\\frac{a_{n+1}}{a_{n}}=q$$\n"
      ]
    },
    {
      "cell_type": "markdown",
      "metadata": {
        "id": "hZDQX1t2wNc-"
      },
      "source": [
        "```\n",
        "если q < 1 - ряд сходится\n",
        "если q > 1 - ряд рассходится \n",
        "```\n",
        "\n"
      ]
    },
    {
      "cell_type": "markdown",
      "metadata": {
        "id": "OvsRt2NKwgsG"
      },
      "source": [
        "### $$\\lim_{n\\to +\\infty}\\frac{(n+1)^{n+1}}{((n+1)!)^2}\\frac{(n!)^2}{n^n}=\\lim_{n\\to +\\infty}\\frac{(n+1)^{n+1}}{(n!)^2(n+1)^2}\\frac{(n!)^2}{n^n}=\\lim_{n\\to +\\infty}\\frac{(n+1)^{n-1}}{n^n}=0$$\n"
      ]
    },
    {
      "cell_type": "code",
      "metadata": {
        "colab": {
          "base_uri": "https://localhost:8080/",
          "height": 37
        },
        "id": "uEGWNJOuJqVd",
        "outputId": "ff52a8bc-a657-44ad-b49f-2d45464650b2"
      },
      "source": [
        "# проверка вычисления предела\n",
        "n = Symbol('n')\n",
        "expr = (n+1)**(n+1)/(factorial(n+1))**2/(n**n/(factorial(n))**2)\n",
        "limit_expr = limit(expr, n, oo) \n",
        "limit_expr "
      ],
      "execution_count": null,
      "outputs": [
        {
          "output_type": "execute_result",
          "data": {
            "text/latex": "$\\displaystyle 0$",
            "text/plain": [
              "0"
            ]
          },
          "metadata": {},
          "execution_count": 14
        }
      ]
    },
    {
      "cell_type": "markdown",
      "metadata": {
        "id": "qePu7IJ8QE_i"
      },
      "source": [
        "**q = 0 => q < 1, значит ряд сходится**"
      ]
    },
    {
      "cell_type": "markdown",
      "metadata": {
        "id": "l5hbtNCAFRMk"
      },
      "source": [
        "#**2 Исследовать ряд на сходимость, используя радикальный признак Коши:**\n",
        "### $$\\sum\\limits_{n=1}^{+\\infty}\\frac{n}{2^n}$$"
      ]
    },
    {
      "cell_type": "markdown",
      "metadata": {
        "id": "y7fIg-lOw7hq"
      },
      "source": [
        "В радикальном признаке Коши используется предел \n",
        "##$$\\lim_{n\\to +\\infty}\\sqrt[n]{a_{n}}=q$$"
      ]
    },
    {
      "cell_type": "markdown",
      "metadata": {
        "id": "S4Xkm7M0w6Ks"
      },
      "source": [
        "```\n",
        "если q < 1 - ряд сходится\n",
        "если q > 1 - ряд рассходится \n",
        "```"
      ]
    },
    {
      "cell_type": "markdown",
      "metadata": {
        "id": "3D4LrlikGAVO"
      },
      "source": [
        "##$$\\lim_{n\\to +\\infty}\\sqrt[n]{\\frac{n}{2^n}}={\\frac{1}{2}\\lim_{n\\to +\\infty}}{\\sqrt[n]n}$$\n",
        "##$$\\lim_{n\\to +\\infty}{\\sqrt[n]n}=\\lim_{n\\to +\\infty}{n^{\\frac{1}{n}}}=e^{\\lim_{n\\to +\\infty}{\\frac{\\ln n}{n}}}$$\n",
        "Используем правило Лопиталя:\n",
        "##$$\\lim_{n\\to +\\infty}\\frac{\\ln n}{n}=\\lim_{n\\to +\\infty}\\frac{(\\ln n)'}{n'}=\\lim_{n\\to +\\infty}\\frac{\\frac{1}{n}}{1}=0$$\n",
        "Следовательно\n",
        "##$$\\lim_{n\\to +\\infty}{\\sqrt[n]n}=e^0=1$$\n",
        "и тогда результат будет \n",
        "##$$\\lim_{n\\to +\\infty}\\sqrt[n]{\\frac{n}{2^n}}={\\frac{1}{2}\\lim_{n\\to +\\infty}}{\\sqrt[n]n}=\\frac{1}{2}$$\n"
      ]
    },
    {
      "cell_type": "code",
      "metadata": {
        "colab": {
          "base_uri": "https://localhost:8080/",
          "height": 51
        },
        "id": "Bg6VikUsP55p",
        "outputId": "6211725f-748d-4415-faaa-fc8af88a1146"
      },
      "source": [
        "# проверка вычисления предела\n",
        "n = Symbol('n')\n",
        "expr = root(n/(2**n), n)\n",
        "limit_expr = limit(expr, n, oo) \n",
        "limit_expr "
      ],
      "execution_count": null,
      "outputs": [
        {
          "output_type": "execute_result",
          "data": {
            "text/latex": "$\\displaystyle \\frac{1}{2}$",
            "text/plain": [
              "1/2"
            ]
          },
          "metadata": {},
          "execution_count": 5
        }
      ]
    },
    {
      "cell_type": "markdown",
      "metadata": {
        "id": "S178Jn_3JDAP"
      },
      "source": [
        "**$q = 1/2 <1 $, значит ряд сходится**"
      ]
    },
    {
      "cell_type": "markdown",
      "metadata": {
        "id": "Lr9w-DAMBgse"
      },
      "source": [
        "#**3 Исследовать ряд на сходимость, используя признак Лейбница:**\n",
        "### $$\\sum\\limits_{n=1}^{+\\infty}\\frac{(-1)^n}{n+\\ln n}$$"
      ]
    },
    {
      "cell_type": "markdown",
      "metadata": {
        "id": "rIPppSqQCPUE"
      },
      "source": [
        "```\n",
        "Знкочередующийся ряд сходится, если:\n",
        "    1. Последовательность абсолютных величин членов ряда монотонно убывает\n",
        "    2. Общий член ряда стремится к нулю\n",
        "```"
      ]
    },
    {
      "cell_type": "markdown",
      "metadata": {
        "id": "vTc7bX7_FzEP"
      },
      "source": [
        "Ряд является знакочередующимся в результате чередования знака в знаменателе (-1)^n\n",
        "1.   \n",
        "##$$ |\\frac{1}{n + \\ln n}| > |\\frac{1}{(n+1) + \\ln (n+1)}|$$ \n",
        "при n >= 1, следовательно - последовательность монотонно убывает\n",
        "2.  \n",
        "##$$\\lim_{n\\to +\\infty}|a_n|=\\lim_{n\\to +\\infty}\\frac{1}{n + \\ln n}=\\frac{1}{\\infty + \\infty}=0$$\n",
        "**т.к. знакочередующийся ряд из модулей его членов сходится, значит последовательность - абсолютно сходящаяся**\n"
      ]
    },
    {
      "cell_type": "code",
      "metadata": {
        "id": "kuupwjWBIie2",
        "colab": {
          "base_uri": "https://localhost:8080/",
          "height": 37
        },
        "outputId": "72dddbb1-1b44-4cfe-88e3-d51f60021de4"
      },
      "source": [
        "# проверка вычисления предела\n",
        "n = Symbol('n')\n",
        "expr = 1/(n + ln(n))\n",
        "limit_expr = limit(expr, n, oo) \n",
        "limit_expr "
      ],
      "execution_count": null,
      "outputs": [
        {
          "output_type": "execute_result",
          "data": {
            "text/latex": "$\\displaystyle 0$",
            "text/plain": [
              "0"
            ]
          },
          "metadata": {},
          "execution_count": 8
        }
      ]
    },
    {
      "cell_type": "markdown",
      "metadata": {
        "id": "ZIYlfOBGJmqf"
      },
      "source": [
        "#**4 Исследовать ряд на сходимость, используя признак Раабе:**\n",
        "### $$\\sum\\limits_{n=1}^{+\\infty}\\frac{3^n}{2^n}$$"
      ]
    },
    {
      "cell_type": "markdown",
      "metadata": {
        "id": "2A2CVat6KAYN"
      },
      "source": [
        "рассмотрим следующий предел:\n",
        "\n",
        "### $$\\lim_{n\\to +\\infty}n\\Bigr(\\frac{a_{n}}{a_{n+1}}-1\\Bigl)=r$$\n",
        "\n",
        "```\n",
        "- если r>1, то ряд сходится;\n",
        "- если r<1, то ряд расходится;\n",
        "- если r=1, то признак Раабе не работает.\n",
        "```\n",
        "\n",
        "\n",
        "\n",
        "### $$\\lim_{n\\to +\\infty}n\\Bigr(\\frac{3^n}{2^n}: \\frac{3^{n+1}}{2^{n+1}}-1\\Bigl)=\\lim_{n\\to +\\infty}n\\Bigr(\\frac{3^n}{2^n} \\frac{2^{n+1}}{3^{n+1}}-1\\Bigl)=\\lim_{n\\to +\\infty}n\\Bigr(\\frac{2}{3}-1\\Bigl) = -\\infty$$\n",
        "**т.к. предел равен $-\\infty<1$, то ряд расходится.**"
      ]
    },
    {
      "cell_type": "code",
      "metadata": {
        "colab": {
          "base_uri": "https://localhost:8080/",
          "height": 37
        },
        "id": "kUB7eeoEx-is",
        "outputId": "f7d191a9-6b48-4dfa-d8d9-7cabcb2a3fc9"
      },
      "source": [
        "# проверка вычисления предела\n",
        "n = Symbol('n')\n",
        "expr = n*((3**n/2**n)/(3**(n+1)/2**(n+1))-1)\n",
        "limit_expr = limit(expr, n, oo) \n",
        "limit_expr "
      ],
      "execution_count": 86,
      "outputs": [
        {
          "output_type": "execute_result",
          "data": {
            "text/latex": "$\\displaystyle -\\infty$",
            "text/plain": [
              "-oo"
            ]
          },
          "metadata": {},
          "execution_count": 86
        }
      ]
    },
    {
      "cell_type": "markdown",
      "metadata": {
        "id": "gwkRzR1rPTUP"
      },
      "source": [
        "#**5 Разложить функцию по Тейлору в единице:**\n",
        "### $$f(x)=\\ln (16x^2) $$"
      ]
    },
    {
      "cell_type": "markdown",
      "metadata": {
        "id": "a6ZHzsx10yuX"
      },
      "source": [
        "Формула разложения в ряд:\n",
        "### $$f(x)=\\sum\\limits_{n=0}^{+\\infty}\\frac{f^{(n)}(a)}{n!}(x-a)^n$$\n",
        "где f(n)(a) -это значение производной в точке a n-го порядка.\n",
        "\n"
      ]
    },
    {
      "cell_type": "markdown",
      "metadata": {
        "id": "1SC20aS4CVw2"
      },
      "source": [
        "#### $$\\ln (16x^2)= \\frac{{\\ln(16) + ln(a^2)}}{1}(x-a)^0 + \\frac{2{\\frac{1}{a}}}{1}(x-a)^1 + \\frac{2\\frac{-1}{a^2}}{2}(x-a)^2 + \\frac{2\\frac{2}{a^3}}{6}(x-a)^3 + \\frac{2\\frac{-6}{a^4}}{24}(x-a)^4 + \\frac{2\\frac{24}{a^5}}{120}(x-a)^5 + O\\Bigr((x-1)^6; x->1\\Bigl)$$\n",
        "### $$  = \\ln16 + 2(x-1) - (x-1)^2 + \\frac{2}{3}(x-1)^3 - \\frac{1}{2}(x-1)^4  +- \\frac{2}{5}(x-1)^5 + O\\Bigr((x-1)^6; x->1\\Bigl)$$"
      ]
    },
    {
      "cell_type": "code",
      "metadata": {
        "colab": {
          "base_uri": "https://localhost:8080/",
          "height": 56
        },
        "id": "la6rTwb6IibH",
        "outputId": "efdf8c25-ec59-45bb-ccb6-52404600cee3"
      },
      "source": [
        "# проверка разложение\n",
        "x = Symbol('x')\n",
        "expr = ln(16*x**2)\n",
        "series(expr, x, 1)"
      ],
      "execution_count": 6,
      "outputs": [
        {
          "output_type": "execute_result",
          "data": {
            "text/latex": "$\\displaystyle \\log{\\left(16 \\right)} - 2 - \\left(x - 1\\right)^{2} + \\frac{2 \\left(x - 1\\right)^{3}}{3} - \\frac{\\left(x - 1\\right)^{4}}{2} + \\frac{2 \\left(x - 1\\right)^{5}}{5} + 2 x + O\\left(\\left(x - 1\\right)^{6}; x\\rightarrow 1\\right)$",
            "text/plain": [
              "log(16) - 2 - (x - 1)**2 + 2*(x - 1)**3/3 - (x - 1)**4/2 + 2*(x - 1)**5/5 + 2*x + O((x - 1)**6, (x, 1))"
            ]
          },
          "metadata": {},
          "execution_count": 6
        }
      ]
    },
    {
      "cell_type": "markdown",
      "metadata": {
        "id": "2EGylfoSVrMB"
      },
      "source": [
        "#**6  Дана функция :**\n",
        "### $$f(x)=x^2 $$\n",
        "Разложить функцию в ряд Фурье по косинусам на отрезке $$x∈[-\\pi; \\pi] $$\n",
        "Построить график функции и ее разложения.\n"
      ]
    },
    {
      "cell_type": "markdown",
      "metadata": {
        "id": "z92s5AihZ1cC"
      },
      "source": [
        "$$f(x)=x^2 $$ - четная функция и ряд Фурье для неё будет иметь вид:\n",
        "$$f(x)=\\frac{a_0}{2} + \\sum\\limits_{n=1}^{+\\infty}a_ncos nx $$\n",
        "где \n",
        "$$a_0=\\frac{2}{\\pi}\\int\\limits_{0}^{\\pi}f(x)dx $$\n",
        "и\n",
        "$$a_n=\\frac{2}{\\pi}\\int\\limits_{0}^{\\pi}f(x)cosnx\\,dx $$\n",
        "Тогда\n",
        "$$a_0=\\frac{2}{\\pi}\\int\\limits_{0}^{\\pi}x^2dx = \\frac{2}{\\pi}\\frac{\\pi^3}{3} =  \\frac{2\\pi^2}{3}$$ \n",
        "$$a_n=\\frac{2}{\\pi}\\int\\limits_{0}^{\\pi}x^2cosnx\\,dx = \\frac{2}{\\pi n^2}2x\\,cosnx \\bigg|_0^\\pi + \\frac{2}{\\pi n^3}(-2 + n^2x^2)sinnx\\bigg|_0^\\pi = \\frac{2}{\\pi n^2}2\\pi \\, cosn\\pi = \\frac{4}{n^2}cosn\\pi $$\n",
        "Таким образом \n",
        "$$a_n=\\frac{4}{n^2}(-1)^{n}$$\n",
        "И ряд Фурье будет иметь вид\n",
        "$$f(x)=\\frac{\\pi^2}{3} + \\sum\\limits_{n=1}^{+\\infty} \\frac{4}{n^2}(-1)^{n}cos nx = \\frac{\\pi^2}{3} + 4\\sum\\limits_{n=1}^{+\\infty}(-1)^{n} \\frac{cos nx}{n^2}=\\frac{\\pi^2}{3}+ 4\\Bigr(-cos x + \\frac{1}{4}cos2x - \\frac{1}{9}cos3x + \\frac{1}{16}cos4x - \\frac{1}{25}cos5x \\Bigl)$$\n",
        "\n"
      ]
    },
    {
      "cell_type": "code",
      "metadata": {
        "id": "SX_ysiTgI7wm",
        "colab": {
          "base_uri": "https://localhost:8080/",
          "height": 298
        },
        "outputId": "c9c029e3-3a0e-470c-8b10-994e7f3c72fc"
      },
      "source": [
        "x = Symbol('x')\n",
        "func = x**2 \n",
        "fourier = pi**2/3 + 4*((-1)*cos(x)+1/4*cos(2*x)-1/9*cos(3*x)+1/16*cos(4*x)-1/25*cos(5*x)) \n",
        "plot_func = plot(func, (x, -pi, pi), ylim=(-1, 10), line_color='b', show=False, title='Разложение в ряд Фурье функции y=x^2\\n\\n',  legend=True)\n",
        "plot_fourier = plot(fourier, (x, -pi, pi), ylim=(-1, 10), line_color='r', show=False, label='fourier')\n",
        "plot_func.extend(plot_fourier)\n",
        "plot_func.show()"
      ],
      "execution_count": 87,
      "outputs": [
        {
          "output_type": "display_data",
          "data": {
            "image/png": "[encoded data removed]",
            "text/plain": [
              "<Figure size 432x288 with 1 Axes>"
            ]
          },
          "metadata": {
            "needs_background": "light"
          }
        }
      ]
    },
    {
      "cell_type": "code",
      "metadata": {
        "id": "4v3oKMT8y2XP"
      },
      "source": [
        ""
      ],
      "execution_count": null,
      "outputs": []
    }
  ]
}